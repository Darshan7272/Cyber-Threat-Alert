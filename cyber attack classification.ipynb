{
 "cells": [
  {
   "cell_type": "code",
   "execution_count": 1,
   "metadata": {},
   "outputs": [],
   "source": [
    "import pandas as pd\n",
    "import numpy as np\n",
    "import seaborn as sns\n",
    "import matplotlib.pyplot as plt\n",
    "pd.set_option('display.max_columns',None)\n",
    "from imblearn.over_sampling import SMOTE\n",
    "from sklearn.preprocessing import LabelEncoder,StandardScaler\n",
    "from sklearn.model_selection import train_test_split\n",
    "from sklearn.metrics import accuracy_score,classification_report"
   ]
  },
  {
   "cell_type": "code",
   "execution_count": 2,
   "metadata": {},
   "outputs": [],
   "source": [
    "atk=pd.read_csv(r'C:\\Users\\nagar\\Documents\\python files\\Machine Learning\\ML project\\Project 2\\Data_of_Attack_Back.csv')\n",
    "butterovfl=pd.read_csv(r'Data_of_Attack_Back_BufferOverflow.csv')\n",
    "ftp=pd.read_csv(r'Data_of_Attack_Back_FTPWrite.csv')\n",
    "guess_pwd=pd.read_csv(r'Data_of_Attack_Back_GuessPassword.csv')\n",
    "nmap=pd.read_csv(r\"Data_of_Attack_Back_NMap.csv\")\n",
    "neptune=pd.read_csv(r'Data_of_Attack_Back_Neptune.csv')\n",
    "normal_data=pd.read_csv(r'Data_of_Attack_Back_Normal.csv')\n",
    "portsweep=pd.read_csv(r'Data_of_Attack_Back_PortSweep.csv')\n",
    "rootkit=pd.read_csv(r'Data_of_Attack_Back_RootKit.csv')\n",
    "satan=pd.read_csv(r'Data_of_Attack_Back_Satan.csv')\n",
    "smurf=pd.read_csv(r'Data_of_Attack_Back_Smurf.csv')"
   ]
  },
  {
   "cell_type": "code",
   "execution_count": 3,
   "metadata": {},
   "outputs": [
    {
     "data": {
      "text/html": [
       "<div>\n",
       "<style scoped>\n",
       "    .dataframe tbody tr th:only-of-type {\n",
       "        vertical-align: middle;\n",
       "    }\n",
       "\n",
       "    .dataframe tbody tr th {\n",
       "        vertical-align: top;\n",
       "    }\n",
       "\n",
       "    .dataframe thead th {\n",
       "        text-align: right;\n",
       "    }\n",
       "</style>\n",
       "<table border=\"1\" class=\"dataframe\">\n",
       "  <thead>\n",
       "    <tr style=\"text-align: right;\">\n",
       "      <th></th>\n",
       "      <th>duration</th>\n",
       "      <th>protocol_type</th>\n",
       "      <th>service</th>\n",
       "      <th>flag</th>\n",
       "      <th>src_bytes</th>\n",
       "      <th>dst_bytes</th>\n",
       "      <th>land</th>\n",
       "      <th>wrong_fragment</th>\n",
       "      <th>urgent</th>\n",
       "      <th>hot</th>\n",
       "      <th>num_failed_logins</th>\n",
       "      <th>logged_in</th>\n",
       "      <th>num_compromised</th>\n",
       "      <th>root_shell</th>\n",
       "      <th>su_attempted</th>\n",
       "      <th>num_root</th>\n",
       "      <th>num_file_creations</th>\n",
       "      <th>num_shells</th>\n",
       "      <th>num_access_files</th>\n",
       "      <th>num_outbound_cmds</th>\n",
       "      <th>is_host_login</th>\n",
       "      <th>is_guest_login</th>\n",
       "      <th>count</th>\n",
       "      <th>srv_count</th>\n",
       "      <th>serror_rate</th>\n",
       "      <th>srv_error_rate</th>\n",
       "      <th>rerror_rate</th>\n",
       "      <th>srv_rerror_rate</th>\n",
       "      <th>same_srv_rate</th>\n",
       "      <th>diff_srv_rate</th>\n",
       "      <th>srv_diff_host_rate</th>\n",
       "      <th>dst_host_count</th>\n",
       "      <th>dst_host_srv_count</th>\n",
       "      <th>dst_host_same_srv_rate</th>\n",
       "      <th>dst_host_diff_srv_rate</th>\n",
       "      <th>dst_host_same_src_port_rate</th>\n",
       "      <th>dst_host_srv_diff_host_rate</th>\n",
       "      <th>dst_host_serror_rate</th>\n",
       "      <th>dst_host_srv_serror_rate</th>\n",
       "      <th>dst_host_rerror_rate</th>\n",
       "      <th>dst_host_srv_rerror_rate</th>\n",
       "    </tr>\n",
       "  </thead>\n",
       "  <tbody>\n",
       "    <tr>\n",
       "      <th>0</th>\n",
       "      <td>0.0</td>\n",
       "      <td>0.0</td>\n",
       "      <td>0.0</td>\n",
       "      <td>0.0</td>\n",
       "      <td>0.00215</td>\n",
       "      <td>0.45076</td>\n",
       "      <td>0</td>\n",
       "      <td>0</td>\n",
       "      <td>0.0</td>\n",
       "      <td>0.0</td>\n",
       "      <td>0.0</td>\n",
       "      <td>0.1</td>\n",
       "      <td>0.0</td>\n",
       "      <td>0.0</td>\n",
       "      <td>0.0</td>\n",
       "      <td>0.0</td>\n",
       "      <td>0.0</td>\n",
       "      <td>0.0</td>\n",
       "      <td>0.0</td>\n",
       "      <td>0</td>\n",
       "      <td>0.0</td>\n",
       "      <td>0.0</td>\n",
       "      <td>0.001</td>\n",
       "      <td>0.001</td>\n",
       "      <td>0.0</td>\n",
       "      <td>0.0</td>\n",
       "      <td>0.0</td>\n",
       "      <td>0.0</td>\n",
       "      <td>0.1</td>\n",
       "      <td>0.0</td>\n",
       "      <td>0.0</td>\n",
       "      <td>0.000</td>\n",
       "      <td>0.000</td>\n",
       "      <td>0.0</td>\n",
       "      <td>0.0</td>\n",
       "      <td>0.000</td>\n",
       "      <td>0.0</td>\n",
       "      <td>0.0</td>\n",
       "      <td>0.0</td>\n",
       "      <td>0.0</td>\n",
       "      <td>0.0</td>\n",
       "    </tr>\n",
       "    <tr>\n",
       "      <th>1</th>\n",
       "      <td>0.0</td>\n",
       "      <td>0.0</td>\n",
       "      <td>0.0</td>\n",
       "      <td>0.0</td>\n",
       "      <td>0.00162</td>\n",
       "      <td>0.04528</td>\n",
       "      <td>0</td>\n",
       "      <td>0</td>\n",
       "      <td>0.0</td>\n",
       "      <td>0.0</td>\n",
       "      <td>0.0</td>\n",
       "      <td>0.1</td>\n",
       "      <td>0.0</td>\n",
       "      <td>0.0</td>\n",
       "      <td>0.0</td>\n",
       "      <td>0.0</td>\n",
       "      <td>0.0</td>\n",
       "      <td>0.0</td>\n",
       "      <td>0.0</td>\n",
       "      <td>0</td>\n",
       "      <td>0.0</td>\n",
       "      <td>0.0</td>\n",
       "      <td>0.002</td>\n",
       "      <td>0.002</td>\n",
       "      <td>0.0</td>\n",
       "      <td>0.0</td>\n",
       "      <td>0.0</td>\n",
       "      <td>0.0</td>\n",
       "      <td>0.1</td>\n",
       "      <td>0.0</td>\n",
       "      <td>0.0</td>\n",
       "      <td>0.001</td>\n",
       "      <td>0.001</td>\n",
       "      <td>0.1</td>\n",
       "      <td>0.0</td>\n",
       "      <td>0.100</td>\n",
       "      <td>0.0</td>\n",
       "      <td>0.0</td>\n",
       "      <td>0.0</td>\n",
       "      <td>0.0</td>\n",
       "      <td>0.0</td>\n",
       "    </tr>\n",
       "    <tr>\n",
       "      <th>2</th>\n",
       "      <td>0.0</td>\n",
       "      <td>0.0</td>\n",
       "      <td>0.0</td>\n",
       "      <td>0.0</td>\n",
       "      <td>0.00236</td>\n",
       "      <td>0.01228</td>\n",
       "      <td>0</td>\n",
       "      <td>0</td>\n",
       "      <td>0.0</td>\n",
       "      <td>0.0</td>\n",
       "      <td>0.0</td>\n",
       "      <td>0.1</td>\n",
       "      <td>0.0</td>\n",
       "      <td>0.0</td>\n",
       "      <td>0.0</td>\n",
       "      <td>0.0</td>\n",
       "      <td>0.0</td>\n",
       "      <td>0.0</td>\n",
       "      <td>0.0</td>\n",
       "      <td>0</td>\n",
       "      <td>0.0</td>\n",
       "      <td>0.0</td>\n",
       "      <td>0.001</td>\n",
       "      <td>0.001</td>\n",
       "      <td>0.0</td>\n",
       "      <td>0.0</td>\n",
       "      <td>0.0</td>\n",
       "      <td>0.0</td>\n",
       "      <td>0.1</td>\n",
       "      <td>0.0</td>\n",
       "      <td>0.0</td>\n",
       "      <td>0.002</td>\n",
       "      <td>0.002</td>\n",
       "      <td>0.1</td>\n",
       "      <td>0.0</td>\n",
       "      <td>0.050</td>\n",
       "      <td>0.0</td>\n",
       "      <td>0.0</td>\n",
       "      <td>0.0</td>\n",
       "      <td>0.0</td>\n",
       "      <td>0.0</td>\n",
       "    </tr>\n",
       "    <tr>\n",
       "      <th>3</th>\n",
       "      <td>0.0</td>\n",
       "      <td>0.0</td>\n",
       "      <td>0.0</td>\n",
       "      <td>0.0</td>\n",
       "      <td>0.00233</td>\n",
       "      <td>0.02032</td>\n",
       "      <td>0</td>\n",
       "      <td>0</td>\n",
       "      <td>0.0</td>\n",
       "      <td>0.0</td>\n",
       "      <td>0.0</td>\n",
       "      <td>0.1</td>\n",
       "      <td>0.0</td>\n",
       "      <td>0.0</td>\n",
       "      <td>0.0</td>\n",
       "      <td>0.0</td>\n",
       "      <td>0.0</td>\n",
       "      <td>0.0</td>\n",
       "      <td>0.0</td>\n",
       "      <td>0</td>\n",
       "      <td>0.0</td>\n",
       "      <td>0.0</td>\n",
       "      <td>0.002</td>\n",
       "      <td>0.002</td>\n",
       "      <td>0.0</td>\n",
       "      <td>0.0</td>\n",
       "      <td>0.0</td>\n",
       "      <td>0.0</td>\n",
       "      <td>0.1</td>\n",
       "      <td>0.0</td>\n",
       "      <td>0.0</td>\n",
       "      <td>0.003</td>\n",
       "      <td>0.003</td>\n",
       "      <td>0.1</td>\n",
       "      <td>0.0</td>\n",
       "      <td>0.033</td>\n",
       "      <td>0.0</td>\n",
       "      <td>0.0</td>\n",
       "      <td>0.0</td>\n",
       "      <td>0.0</td>\n",
       "      <td>0.0</td>\n",
       "    </tr>\n",
       "    <tr>\n",
       "      <th>4</th>\n",
       "      <td>0.0</td>\n",
       "      <td>0.0</td>\n",
       "      <td>0.0</td>\n",
       "      <td>0.0</td>\n",
       "      <td>0.00239</td>\n",
       "      <td>0.00486</td>\n",
       "      <td>0</td>\n",
       "      <td>0</td>\n",
       "      <td>0.0</td>\n",
       "      <td>0.0</td>\n",
       "      <td>0.0</td>\n",
       "      <td>0.1</td>\n",
       "      <td>0.0</td>\n",
       "      <td>0.0</td>\n",
       "      <td>0.0</td>\n",
       "      <td>0.0</td>\n",
       "      <td>0.0</td>\n",
       "      <td>0.0</td>\n",
       "      <td>0.0</td>\n",
       "      <td>0</td>\n",
       "      <td>0.0</td>\n",
       "      <td>0.0</td>\n",
       "      <td>0.003</td>\n",
       "      <td>0.003</td>\n",
       "      <td>0.0</td>\n",
       "      <td>0.0</td>\n",
       "      <td>0.0</td>\n",
       "      <td>0.0</td>\n",
       "      <td>0.1</td>\n",
       "      <td>0.0</td>\n",
       "      <td>0.0</td>\n",
       "      <td>0.004</td>\n",
       "      <td>0.004</td>\n",
       "      <td>0.1</td>\n",
       "      <td>0.0</td>\n",
       "      <td>0.025</td>\n",
       "      <td>0.0</td>\n",
       "      <td>0.0</td>\n",
       "      <td>0.0</td>\n",
       "      <td>0.0</td>\n",
       "      <td>0.0</td>\n",
       "    </tr>\n",
       "  </tbody>\n",
       "</table>\n",
       "</div>"
      ],
      "text/plain": [
       "   duration   protocol_type   service   flag   src_bytes   dst_bytes   land  \\\n",
       "0       0.0             0.0       0.0    0.0     0.00215     0.45076      0   \n",
       "1       0.0             0.0       0.0    0.0     0.00162     0.04528      0   \n",
       "2       0.0             0.0       0.0    0.0     0.00236     0.01228      0   \n",
       "3       0.0             0.0       0.0    0.0     0.00233     0.02032      0   \n",
       "4       0.0             0.0       0.0    0.0     0.00239     0.00486      0   \n",
       "\n",
       "    wrong_fragment   urgent   hot   num_failed_logins   logged_in  \\\n",
       "0                0      0.0   0.0                 0.0         0.1   \n",
       "1                0      0.0   0.0                 0.0         0.1   \n",
       "2                0      0.0   0.0                 0.0         0.1   \n",
       "3                0      0.0   0.0                 0.0         0.1   \n",
       "4                0      0.0   0.0                 0.0         0.1   \n",
       "\n",
       "    num_compromised   root_shell   su_attempted   num_root  \\\n",
       "0               0.0          0.0            0.0        0.0   \n",
       "1               0.0          0.0            0.0        0.0   \n",
       "2               0.0          0.0            0.0        0.0   \n",
       "3               0.0          0.0            0.0        0.0   \n",
       "4               0.0          0.0            0.0        0.0   \n",
       "\n",
       "    num_file_creations   num_shells   num_access_files   num_outbound_cmds  \\\n",
       "0                  0.0          0.0                0.0                   0   \n",
       "1                  0.0          0.0                0.0                   0   \n",
       "2                  0.0          0.0                0.0                   0   \n",
       "3                  0.0          0.0                0.0                   0   \n",
       "4                  0.0          0.0                0.0                   0   \n",
       "\n",
       "    is_host_login   is_guest_login   count   srv_count   serror_rate  \\\n",
       "0             0.0              0.0   0.001       0.001           0.0   \n",
       "1             0.0              0.0   0.002       0.002           0.0   \n",
       "2             0.0              0.0   0.001       0.001           0.0   \n",
       "3             0.0              0.0   0.002       0.002           0.0   \n",
       "4             0.0              0.0   0.003       0.003           0.0   \n",
       "\n",
       "    srv_error_rate   rerror_rate   srv_rerror_rate   same_srv_rate  \\\n",
       "0              0.0           0.0               0.0             0.1   \n",
       "1              0.0           0.0               0.0             0.1   \n",
       "2              0.0           0.0               0.0             0.1   \n",
       "3              0.0           0.0               0.0             0.1   \n",
       "4              0.0           0.0               0.0             0.1   \n",
       "\n",
       "    diff_srv_rate   srv_diff_host_rate   dst_host_count   dst_host_srv_count  \\\n",
       "0             0.0                  0.0            0.000                0.000   \n",
       "1             0.0                  0.0            0.001                0.001   \n",
       "2             0.0                  0.0            0.002                0.002   \n",
       "3             0.0                  0.0            0.003                0.003   \n",
       "4             0.0                  0.0            0.004                0.004   \n",
       "\n",
       "    dst_host_same_srv_rate   dst_host_diff_srv_rate  \\\n",
       "0                      0.0                      0.0   \n",
       "1                      0.1                      0.0   \n",
       "2                      0.1                      0.0   \n",
       "3                      0.1                      0.0   \n",
       "4                      0.1                      0.0   \n",
       "\n",
       "    dst_host_same_src_port_rate   dst_host_srv_diff_host_rate  \\\n",
       "0                         0.000                           0.0   \n",
       "1                         0.100                           0.0   \n",
       "2                         0.050                           0.0   \n",
       "3                         0.033                           0.0   \n",
       "4                         0.025                           0.0   \n",
       "\n",
       "    dst_host_serror_rate   dst_host_srv_serror_rate   dst_host_rerror_rate  \\\n",
       "0                    0.0                        0.0                    0.0   \n",
       "1                    0.0                        0.0                    0.0   \n",
       "2                    0.0                        0.0                    0.0   \n",
       "3                    0.0                        0.0                    0.0   \n",
       "4                    0.0                        0.0                    0.0   \n",
       "\n",
       "    dst_host_srv_rerror_rate  \n",
       "0                        0.0  \n",
       "1                        0.0  \n",
       "2                        0.0  \n",
       "3                        0.0  \n",
       "4                        0.0  "
      ]
     },
     "execution_count": 3,
     "metadata": {},
     "output_type": "execute_result"
    }
   ],
   "source": [
    "normal_data.head()"
   ]
  },
  {
   "cell_type": "code",
   "execution_count": 4,
   "metadata": {},
   "outputs": [
    {
     "data": {
      "text/plain": [
       "(576710, 41)"
      ]
     },
     "execution_count": 4,
     "metadata": {},
     "output_type": "execute_result"
    }
   ],
   "source": [
    "normal_data.shape"
   ]
  },
  {
   "cell_type": "code",
   "execution_count": 5,
   "metadata": {},
   "outputs": [
    {
     "data": {
      "text/plain": [
       "(5019, 41)"
      ]
     },
     "execution_count": 5,
     "metadata": {},
     "output_type": "execute_result"
    }
   ],
   "source": [
    "satan.shape"
   ]
  },
  {
   "cell_type": "code",
   "execution_count": 6,
   "metadata": {},
   "outputs": [
    {
     "data": {
      "text/plain": [
       "(3007, 41)"
      ]
     },
     "execution_count": 6,
     "metadata": {},
     "output_type": "execute_result"
    }
   ],
   "source": [
    "smurf.shape"
   ]
  },
  {
   "cell_type": "code",
   "execution_count": 7,
   "metadata": {},
   "outputs": [
    {
     "data": {
      "text/plain": [
       "(8, 41)"
      ]
     },
     "execution_count": 7,
     "metadata": {},
     "output_type": "execute_result"
    }
   ],
   "source": [
    "ftp.shape"
   ]
  },
  {
   "cell_type": "code",
   "execution_count": 8,
   "metadata": {},
   "outputs": [],
   "source": [
    "#creating the column in every attack data frame and naming the variable with the attack name"
   ]
  },
  {
   "cell_type": "code",
   "execution_count": 9,
   "metadata": {},
   "outputs": [],
   "source": [
    "normal_data['attack']='normal'\n",
    "butterovfl['attack']='butterovfl'\n",
    "ftp['attack']='ftp'\n",
    "guess_pwd['attack']='guess_pwd'\n",
    "nmap['attack']='namp'\n",
    "neptune['attack']='neptune'\n",
    "portsweep['attack']='portsweep'\n",
    "rootkit['attack']='rootkit'\n",
    "satan['attack']='satan'\n",
    "smurf['attack']='smurf'\n",
    "atk['attack']='back'"
   ]
  },
  {
   "cell_type": "code",
   "execution_count": 10,
   "metadata": {},
   "outputs": [],
   "source": [
    "#taking the samples out of the majority dataset \n",
    "n_data=normal_data.sample(frac=0.03)\n",
    "nep_data=neptune.sample(frac=0.03)\n",
    "\n",
    "#combine all the data frame\n",
    "final_atk=pd.concat([n_data,butterovfl,ftp,guess_pwd,nmap,nep_data,portsweep,rootkit,satan,smurf,atk],ignore_index=True)"
   ]
  },
  {
   "cell_type": "code",
   "execution_count": 13,
   "metadata": {},
   "outputs": [
    {
     "data": {
      "text/html": [
       "<div>\n",
       "<style scoped>\n",
       "    .dataframe tbody tr th:only-of-type {\n",
       "        vertical-align: middle;\n",
       "    }\n",
       "\n",
       "    .dataframe tbody tr th {\n",
       "        vertical-align: top;\n",
       "    }\n",
       "\n",
       "    .dataframe thead th {\n",
       "        text-align: right;\n",
       "    }\n",
       "</style>\n",
       "<table border=\"1\" class=\"dataframe\">\n",
       "  <thead>\n",
       "    <tr style=\"text-align: right;\">\n",
       "      <th></th>\n",
       "      <th>count</th>\n",
       "      <th>mean</th>\n",
       "      <th>std</th>\n",
       "      <th>min</th>\n",
       "      <th>25%</th>\n",
       "      <th>50%</th>\n",
       "      <th>75%</th>\n",
       "      <th>max</th>\n",
       "    </tr>\n",
       "  </thead>\n",
       "  <tbody>\n",
       "    <tr>\n",
       "      <th>duration</th>\n",
       "      <td>37731.0</td>\n",
       "      <td>0.009103</td>\n",
       "      <td>0.089458</td>\n",
       "      <td>0.000</td>\n",
       "      <td>0.000</td>\n",
       "      <td>0.00000</td>\n",
       "      <td>0.000000</td>\n",
       "      <td>1.000</td>\n",
       "    </tr>\n",
       "    <tr>\n",
       "      <th>protocol_type</th>\n",
       "      <td>37731.0</td>\n",
       "      <td>0.002961</td>\n",
       "      <td>0.006521</td>\n",
       "      <td>0.000</td>\n",
       "      <td>0.000</td>\n",
       "      <td>0.00000</td>\n",
       "      <td>0.000000</td>\n",
       "      <td>0.020</td>\n",
       "    </tr>\n",
       "    <tr>\n",
       "      <th>service</th>\n",
       "      <td>37731.0</td>\n",
       "      <td>0.071893</td>\n",
       "      <td>0.092428</td>\n",
       "      <td>0.000</td>\n",
       "      <td>0.000</td>\n",
       "      <td>0.06000</td>\n",
       "      <td>0.120000</td>\n",
       "      <td>0.670</td>\n",
       "    </tr>\n",
       "    <tr>\n",
       "      <th>flag</th>\n",
       "      <td>37731.0</td>\n",
       "      <td>0.024032</td>\n",
       "      <td>0.032564</td>\n",
       "      <td>0.000</td>\n",
       "      <td>0.000</td>\n",
       "      <td>0.00000</td>\n",
       "      <td>0.060000</td>\n",
       "      <td>0.100</td>\n",
       "    </tr>\n",
       "    <tr>\n",
       "      <th>src_bytes</th>\n",
       "      <td>37731.0</td>\n",
       "      <td>0.017403</td>\n",
       "      <td>0.088521</td>\n",
       "      <td>0.000</td>\n",
       "      <td>0.000</td>\n",
       "      <td>0.00193</td>\n",
       "      <td>0.003060</td>\n",
       "      <td>1.000</td>\n",
       "    </tr>\n",
       "    <tr>\n",
       "      <th>dst_bytes</th>\n",
       "      <td>37731.0</td>\n",
       "      <td>0.018187</td>\n",
       "      <td>0.056572</td>\n",
       "      <td>0.000</td>\n",
       "      <td>0.000</td>\n",
       "      <td>0.00000</td>\n",
       "      <td>0.011765</td>\n",
       "      <td>1.000</td>\n",
       "    </tr>\n",
       "    <tr>\n",
       "      <th>land</th>\n",
       "      <td>37731.0</td>\n",
       "      <td>0.000000</td>\n",
       "      <td>0.000000</td>\n",
       "      <td>0.000</td>\n",
       "      <td>0.000</td>\n",
       "      <td>0.00000</td>\n",
       "      <td>0.000000</td>\n",
       "      <td>0.000</td>\n",
       "    </tr>\n",
       "    <tr>\n",
       "      <th>wrong_fragment</th>\n",
       "      <td>37731.0</td>\n",
       "      <td>0.000008</td>\n",
       "      <td>0.001544</td>\n",
       "      <td>0.000</td>\n",
       "      <td>0.000</td>\n",
       "      <td>0.00000</td>\n",
       "      <td>0.000000</td>\n",
       "      <td>0.300</td>\n",
       "    </tr>\n",
       "    <tr>\n",
       "      <th>urgent</th>\n",
       "      <td>37731.0</td>\n",
       "      <td>0.000024</td>\n",
       "      <td>0.002866</td>\n",
       "      <td>0.000</td>\n",
       "      <td>0.000</td>\n",
       "      <td>0.00000</td>\n",
       "      <td>0.000000</td>\n",
       "      <td>0.500</td>\n",
       "    </tr>\n",
       "    <tr>\n",
       "      <th>hot</th>\n",
       "      <td>37731.0</td>\n",
       "      <td>0.006790</td>\n",
       "      <td>0.046829</td>\n",
       "      <td>0.000</td>\n",
       "      <td>0.000</td>\n",
       "      <td>0.00000</td>\n",
       "      <td>0.000000</td>\n",
       "      <td>1.000</td>\n",
       "    </tr>\n",
       "    <tr>\n",
       "      <th>num_failed_logins</th>\n",
       "      <td>37731.0</td>\n",
       "      <td>0.000175</td>\n",
       "      <td>0.005145</td>\n",
       "      <td>0.000</td>\n",
       "      <td>0.000</td>\n",
       "      <td>0.00000</td>\n",
       "      <td>0.000000</td>\n",
       "      <td>0.500</td>\n",
       "    </tr>\n",
       "    <tr>\n",
       "      <th>logged_in</th>\n",
       "      <td>37731.0</td>\n",
       "      <td>0.044210</td>\n",
       "      <td>0.049664</td>\n",
       "      <td>0.000</td>\n",
       "      <td>0.000</td>\n",
       "      <td>0.00000</td>\n",
       "      <td>0.100000</td>\n",
       "      <td>0.100</td>\n",
       "    </tr>\n",
       "    <tr>\n",
       "      <th>num_compromised</th>\n",
       "      <td>37731.0</td>\n",
       "      <td>0.002653</td>\n",
       "      <td>0.018422</td>\n",
       "      <td>0.000</td>\n",
       "      <td>0.000</td>\n",
       "      <td>0.00000</td>\n",
       "      <td>0.000000</td>\n",
       "      <td>1.000</td>\n",
       "    </tr>\n",
       "    <tr>\n",
       "      <th>root_shell</th>\n",
       "      <td>37731.0</td>\n",
       "      <td>0.000072</td>\n",
       "      <td>0.002674</td>\n",
       "      <td>0.000</td>\n",
       "      <td>0.000</td>\n",
       "      <td>0.00000</td>\n",
       "      <td>0.000000</td>\n",
       "      <td>0.100</td>\n",
       "    </tr>\n",
       "    <tr>\n",
       "      <th>su_attempted</th>\n",
       "      <td>37731.0</td>\n",
       "      <td>0.000003</td>\n",
       "      <td>0.000515</td>\n",
       "      <td>0.000</td>\n",
       "      <td>0.000</td>\n",
       "      <td>0.00000</td>\n",
       "      <td>0.000000</td>\n",
       "      <td>0.100</td>\n",
       "    </tr>\n",
       "    <tr>\n",
       "      <th>num_root</th>\n",
       "      <td>37731.0</td>\n",
       "      <td>0.001262</td>\n",
       "      <td>0.029708</td>\n",
       "      <td>0.000</td>\n",
       "      <td>0.000</td>\n",
       "      <td>0.00000</td>\n",
       "      <td>0.000000</td>\n",
       "      <td>1.000</td>\n",
       "    </tr>\n",
       "    <tr>\n",
       "      <th>num_file_creations</th>\n",
       "      <td>37731.0</td>\n",
       "      <td>0.000212</td>\n",
       "      <td>0.007805</td>\n",
       "      <td>0.000</td>\n",
       "      <td>0.000</td>\n",
       "      <td>0.00000</td>\n",
       "      <td>0.000000</td>\n",
       "      <td>0.800</td>\n",
       "    </tr>\n",
       "    <tr>\n",
       "      <th>num_shells</th>\n",
       "      <td>37731.0</td>\n",
       "      <td>0.000008</td>\n",
       "      <td>0.000892</td>\n",
       "      <td>0.000</td>\n",
       "      <td>0.000</td>\n",
       "      <td>0.00000</td>\n",
       "      <td>0.000000</td>\n",
       "      <td>0.100</td>\n",
       "    </tr>\n",
       "    <tr>\n",
       "      <th>num_access_files</th>\n",
       "      <td>37731.0</td>\n",
       "      <td>0.000254</td>\n",
       "      <td>0.005090</td>\n",
       "      <td>0.000</td>\n",
       "      <td>0.000</td>\n",
       "      <td>0.00000</td>\n",
       "      <td>0.000000</td>\n",
       "      <td>0.200</td>\n",
       "    </tr>\n",
       "    <tr>\n",
       "      <th>num_outbound_cmds</th>\n",
       "      <td>37731.0</td>\n",
       "      <td>0.000000</td>\n",
       "      <td>0.000000</td>\n",
       "      <td>0.000</td>\n",
       "      <td>0.000</td>\n",
       "      <td>0.00000</td>\n",
       "      <td>0.000000</td>\n",
       "      <td>0.000</td>\n",
       "    </tr>\n",
       "    <tr>\n",
       "      <th>is_host_login</th>\n",
       "      <td>37731.0</td>\n",
       "      <td>0.000000</td>\n",
       "      <td>0.000000</td>\n",
       "      <td>0.000</td>\n",
       "      <td>0.000</td>\n",
       "      <td>0.00000</td>\n",
       "      <td>0.000000</td>\n",
       "      <td>0.000</td>\n",
       "    </tr>\n",
       "    <tr>\n",
       "      <th>is_guest_login</th>\n",
       "      <td>37731.0</td>\n",
       "      <td>0.000191</td>\n",
       "      <td>0.004364</td>\n",
       "      <td>0.000</td>\n",
       "      <td>0.000</td>\n",
       "      <td>0.00000</td>\n",
       "      <td>0.000000</td>\n",
       "      <td>0.100</td>\n",
       "    </tr>\n",
       "    <tr>\n",
       "      <th>count</th>\n",
       "      <td>37731.0</td>\n",
       "      <td>0.106170</td>\n",
       "      <td>0.159629</td>\n",
       "      <td>0.000</td>\n",
       "      <td>0.002</td>\n",
       "      <td>0.01400</td>\n",
       "      <td>0.157000</td>\n",
       "      <td>0.511</td>\n",
       "    </tr>\n",
       "    <tr>\n",
       "      <th>srv_count</th>\n",
       "      <td>37731.0</td>\n",
       "      <td>0.039825</td>\n",
       "      <td>0.110677</td>\n",
       "      <td>0.000</td>\n",
       "      <td>0.002</td>\n",
       "      <td>0.00600</td>\n",
       "      <td>0.017000</td>\n",
       "      <td>0.511</td>\n",
       "    </tr>\n",
       "    <tr>\n",
       "      <th>serror_rate</th>\n",
       "      <td>37731.0</td>\n",
       "      <td>0.018384</td>\n",
       "      <td>0.037445</td>\n",
       "      <td>0.000</td>\n",
       "      <td>0.000</td>\n",
       "      <td>0.00000</td>\n",
       "      <td>0.004000</td>\n",
       "      <td>0.100</td>\n",
       "    </tr>\n",
       "    <tr>\n",
       "      <th>srv_error_rate</th>\n",
       "      <td>37731.0</td>\n",
       "      <td>0.019795</td>\n",
       "      <td>0.039682</td>\n",
       "      <td>0.000</td>\n",
       "      <td>0.000</td>\n",
       "      <td>0.00000</td>\n",
       "      <td>0.000000</td>\n",
       "      <td>0.100</td>\n",
       "    </tr>\n",
       "    <tr>\n",
       "      <th>rerror_rate</th>\n",
       "      <td>37731.0</td>\n",
       "      <td>0.017890</td>\n",
       "      <td>0.036714</td>\n",
       "      <td>0.000</td>\n",
       "      <td>0.000</td>\n",
       "      <td>0.00000</td>\n",
       "      <td>0.000000</td>\n",
       "      <td>0.100</td>\n",
       "    </tr>\n",
       "    <tr>\n",
       "      <th>srv_rerror_rate</th>\n",
       "      <td>37731.0</td>\n",
       "      <td>0.016728</td>\n",
       "      <td>0.036902</td>\n",
       "      <td>0.000</td>\n",
       "      <td>0.000</td>\n",
       "      <td>0.00000</td>\n",
       "      <td>0.000000</td>\n",
       "      <td>0.100</td>\n",
       "    </tr>\n",
       "    <tr>\n",
       "      <th>same_srv_rate</th>\n",
       "      <td>37731.0</td>\n",
       "      <td>0.068899</td>\n",
       "      <td>0.043810</td>\n",
       "      <td>0.000</td>\n",
       "      <td>0.009</td>\n",
       "      <td>0.10000</td>\n",
       "      <td>0.100000</td>\n",
       "      <td>0.100</td>\n",
       "    </tr>\n",
       "    <tr>\n",
       "      <th>diff_srv_rate</th>\n",
       "      <td>37731.0</td>\n",
       "      <td>0.013385</td>\n",
       "      <td>0.030459</td>\n",
       "      <td>0.000</td>\n",
       "      <td>0.000</td>\n",
       "      <td>0.00000</td>\n",
       "      <td>0.006000</td>\n",
       "      <td>0.100</td>\n",
       "    </tr>\n",
       "    <tr>\n",
       "      <th>srv_diff_host_rate</th>\n",
       "      <td>37731.0</td>\n",
       "      <td>0.009370</td>\n",
       "      <td>0.024701</td>\n",
       "      <td>0.000</td>\n",
       "      <td>0.000</td>\n",
       "      <td>0.00000</td>\n",
       "      <td>0.000000</td>\n",
       "      <td>0.100</td>\n",
       "    </tr>\n",
       "    <tr>\n",
       "      <th>dst_host_count</th>\n",
       "      <td>37731.0</td>\n",
       "      <td>0.183312</td>\n",
       "      <td>0.097870</td>\n",
       "      <td>0.001</td>\n",
       "      <td>0.085</td>\n",
       "      <td>0.25500</td>\n",
       "      <td>0.255000</td>\n",
       "      <td>0.255</td>\n",
       "    </tr>\n",
       "    <tr>\n",
       "      <th>dst_host_srv_count</th>\n",
       "      <td>37731.0</td>\n",
       "      <td>0.127271</td>\n",
       "      <td>0.114816</td>\n",
       "      <td>0.001</td>\n",
       "      <td>0.006</td>\n",
       "      <td>0.11400</td>\n",
       "      <td>0.255000</td>\n",
       "      <td>0.255</td>\n",
       "    </tr>\n",
       "    <tr>\n",
       "      <th>dst_host_same_srv_rate</th>\n",
       "      <td>37731.0</td>\n",
       "      <td>0.055327</td>\n",
       "      <td>0.046169</td>\n",
       "      <td>0.000</td>\n",
       "      <td>0.003</td>\n",
       "      <td>0.08000</td>\n",
       "      <td>0.100000</td>\n",
       "      <td>0.100</td>\n",
       "    </tr>\n",
       "    <tr>\n",
       "      <th>dst_host_diff_srv_rate</th>\n",
       "      <td>37731.0</td>\n",
       "      <td>0.015798</td>\n",
       "      <td>0.029938</td>\n",
       "      <td>0.000</td>\n",
       "      <td>0.000</td>\n",
       "      <td>0.00200</td>\n",
       "      <td>0.008000</td>\n",
       "      <td>0.100</td>\n",
       "    </tr>\n",
       "    <tr>\n",
       "      <th>dst_host_same_src_port_rate</th>\n",
       "      <td>37731.0</td>\n",
       "      <td>0.021207</td>\n",
       "      <td>0.035507</td>\n",
       "      <td>0.000</td>\n",
       "      <td>0.000</td>\n",
       "      <td>0.00100</td>\n",
       "      <td>0.025000</td>\n",
       "      <td>0.100</td>\n",
       "    </tr>\n",
       "    <tr>\n",
       "      <th>dst_host_srv_diff_host_rate</th>\n",
       "      <td>37731.0</td>\n",
       "      <td>0.001765</td>\n",
       "      <td>0.005156</td>\n",
       "      <td>0.000</td>\n",
       "      <td>0.000</td>\n",
       "      <td>0.00000</td>\n",
       "      <td>0.002000</td>\n",
       "      <td>0.100</td>\n",
       "    </tr>\n",
       "    <tr>\n",
       "      <th>dst_host_serror_rate</th>\n",
       "      <td>37731.0</td>\n",
       "      <td>0.018394</td>\n",
       "      <td>0.037050</td>\n",
       "      <td>0.000</td>\n",
       "      <td>0.000</td>\n",
       "      <td>0.00000</td>\n",
       "      <td>0.006000</td>\n",
       "      <td>0.100</td>\n",
       "    </tr>\n",
       "    <tr>\n",
       "      <th>dst_host_srv_serror_rate</th>\n",
       "      <td>37731.0</td>\n",
       "      <td>0.019733</td>\n",
       "      <td>0.039660</td>\n",
       "      <td>0.000</td>\n",
       "      <td>0.000</td>\n",
       "      <td>0.00000</td>\n",
       "      <td>0.000000</td>\n",
       "      <td>0.100</td>\n",
       "    </tr>\n",
       "    <tr>\n",
       "      <th>dst_host_rerror_rate</th>\n",
       "      <td>37731.0</td>\n",
       "      <td>0.016294</td>\n",
       "      <td>0.032772</td>\n",
       "      <td>0.000</td>\n",
       "      <td>0.000</td>\n",
       "      <td>0.00000</td>\n",
       "      <td>0.002000</td>\n",
       "      <td>0.100</td>\n",
       "    </tr>\n",
       "    <tr>\n",
       "      <th>dst_host_srv_rerror_rate</th>\n",
       "      <td>37731.0</td>\n",
       "      <td>0.016449</td>\n",
       "      <td>0.036691</td>\n",
       "      <td>0.000</td>\n",
       "      <td>0.000</td>\n",
       "      <td>0.00000</td>\n",
       "      <td>0.000000</td>\n",
       "      <td>0.100</td>\n",
       "    </tr>\n",
       "  </tbody>\n",
       "</table>\n",
       "</div>"
      ],
      "text/plain": [
       "                                count      mean       std    min    25%  \\\n",
       "duration                      37731.0  0.009103  0.089458  0.000  0.000   \n",
       " protocol_type                37731.0  0.002961  0.006521  0.000  0.000   \n",
       " service                      37731.0  0.071893  0.092428  0.000  0.000   \n",
       " flag                         37731.0  0.024032  0.032564  0.000  0.000   \n",
       " src_bytes                    37731.0  0.017403  0.088521  0.000  0.000   \n",
       " dst_bytes                    37731.0  0.018187  0.056572  0.000  0.000   \n",
       " land                         37731.0  0.000000  0.000000  0.000  0.000   \n",
       " wrong_fragment               37731.0  0.000008  0.001544  0.000  0.000   \n",
       " urgent                       37731.0  0.000024  0.002866  0.000  0.000   \n",
       " hot                          37731.0  0.006790  0.046829  0.000  0.000   \n",
       " num_failed_logins            37731.0  0.000175  0.005145  0.000  0.000   \n",
       " logged_in                    37731.0  0.044210  0.049664  0.000  0.000   \n",
       " num_compromised              37731.0  0.002653  0.018422  0.000  0.000   \n",
       " root_shell                   37731.0  0.000072  0.002674  0.000  0.000   \n",
       " su_attempted                 37731.0  0.000003  0.000515  0.000  0.000   \n",
       " num_root                     37731.0  0.001262  0.029708  0.000  0.000   \n",
       " num_file_creations           37731.0  0.000212  0.007805  0.000  0.000   \n",
       " num_shells                   37731.0  0.000008  0.000892  0.000  0.000   \n",
       " num_access_files             37731.0  0.000254  0.005090  0.000  0.000   \n",
       " num_outbound_cmds            37731.0  0.000000  0.000000  0.000  0.000   \n",
       " is_host_login                37731.0  0.000000  0.000000  0.000  0.000   \n",
       " is_guest_login               37731.0  0.000191  0.004364  0.000  0.000   \n",
       " count                        37731.0  0.106170  0.159629  0.000  0.002   \n",
       " srv_count                    37731.0  0.039825  0.110677  0.000  0.002   \n",
       " serror_rate                  37731.0  0.018384  0.037445  0.000  0.000   \n",
       " srv_error_rate               37731.0  0.019795  0.039682  0.000  0.000   \n",
       " rerror_rate                  37731.0  0.017890  0.036714  0.000  0.000   \n",
       " srv_rerror_rate              37731.0  0.016728  0.036902  0.000  0.000   \n",
       " same_srv_rate                37731.0  0.068899  0.043810  0.000  0.009   \n",
       " diff_srv_rate                37731.0  0.013385  0.030459  0.000  0.000   \n",
       " srv_diff_host_rate           37731.0  0.009370  0.024701  0.000  0.000   \n",
       " dst_host_count               37731.0  0.183312  0.097870  0.001  0.085   \n",
       " dst_host_srv_count           37731.0  0.127271  0.114816  0.001  0.006   \n",
       " dst_host_same_srv_rate       37731.0  0.055327  0.046169  0.000  0.003   \n",
       " dst_host_diff_srv_rate       37731.0  0.015798  0.029938  0.000  0.000   \n",
       " dst_host_same_src_port_rate  37731.0  0.021207  0.035507  0.000  0.000   \n",
       " dst_host_srv_diff_host_rate  37731.0  0.001765  0.005156  0.000  0.000   \n",
       " dst_host_serror_rate         37731.0  0.018394  0.037050  0.000  0.000   \n",
       " dst_host_srv_serror_rate     37731.0  0.019733  0.039660  0.000  0.000   \n",
       " dst_host_rerror_rate         37731.0  0.016294  0.032772  0.000  0.000   \n",
       " dst_host_srv_rerror_rate     37731.0  0.016449  0.036691  0.000  0.000   \n",
       "\n",
       "                                  50%       75%    max  \n",
       "duration                      0.00000  0.000000  1.000  \n",
       " protocol_type                0.00000  0.000000  0.020  \n",
       " service                      0.06000  0.120000  0.670  \n",
       " flag                         0.00000  0.060000  0.100  \n",
       " src_bytes                    0.00193  0.003060  1.000  \n",
       " dst_bytes                    0.00000  0.011765  1.000  \n",
       " land                         0.00000  0.000000  0.000  \n",
       " wrong_fragment               0.00000  0.000000  0.300  \n",
       " urgent                       0.00000  0.000000  0.500  \n",
       " hot                          0.00000  0.000000  1.000  \n",
       " num_failed_logins            0.00000  0.000000  0.500  \n",
       " logged_in                    0.00000  0.100000  0.100  \n",
       " num_compromised              0.00000  0.000000  1.000  \n",
       " root_shell                   0.00000  0.000000  0.100  \n",
       " su_attempted                 0.00000  0.000000  0.100  \n",
       " num_root                     0.00000  0.000000  1.000  \n",
       " num_file_creations           0.00000  0.000000  0.800  \n",
       " num_shells                   0.00000  0.000000  0.100  \n",
       " num_access_files             0.00000  0.000000  0.200  \n",
       " num_outbound_cmds            0.00000  0.000000  0.000  \n",
       " is_host_login                0.00000  0.000000  0.000  \n",
       " is_guest_login               0.00000  0.000000  0.100  \n",
       " count                        0.01400  0.157000  0.511  \n",
       " srv_count                    0.00600  0.017000  0.511  \n",
       " serror_rate                  0.00000  0.004000  0.100  \n",
       " srv_error_rate               0.00000  0.000000  0.100  \n",
       " rerror_rate                  0.00000  0.000000  0.100  \n",
       " srv_rerror_rate              0.00000  0.000000  0.100  \n",
       " same_srv_rate                0.10000  0.100000  0.100  \n",
       " diff_srv_rate                0.00000  0.006000  0.100  \n",
       " srv_diff_host_rate           0.00000  0.000000  0.100  \n",
       " dst_host_count               0.25500  0.255000  0.255  \n",
       " dst_host_srv_count           0.11400  0.255000  0.255  \n",
       " dst_host_same_srv_rate       0.08000  0.100000  0.100  \n",
       " dst_host_diff_srv_rate       0.00200  0.008000  0.100  \n",
       " dst_host_same_src_port_rate  0.00100  0.025000  0.100  \n",
       " dst_host_srv_diff_host_rate  0.00000  0.002000  0.100  \n",
       " dst_host_serror_rate         0.00000  0.006000  0.100  \n",
       " dst_host_srv_serror_rate     0.00000  0.000000  0.100  \n",
       " dst_host_rerror_rate         0.00000  0.002000  0.100  \n",
       " dst_host_srv_rerror_rate     0.00000  0.000000  0.100  "
      ]
     },
     "execution_count": 13,
     "metadata": {},
     "output_type": "execute_result"
    }
   ],
   "source": [
    "final_atk.describe().T"
   ]
  },
  {
   "cell_type": "code",
   "execution_count": 11,
   "metadata": {},
   "outputs": [
    {
     "data": {
      "text/plain": [
       "normal        17301\n",
       "neptune        6817\n",
       "satan          5019\n",
       "smurf          3007\n",
       "portsweep      2964\n",
       "namp           1554\n",
       "back            968\n",
       "guess_pwd        53\n",
       "butterovfl       30\n",
       "rootkit          10\n",
       "ftp               8\n",
       "Name: attack, dtype: int64"
      ]
     },
     "execution_count": 11,
     "metadata": {},
     "output_type": "execute_result"
    }
   ],
   "source": [
    "final_atk.attack.value_counts()"
   ]
  },
  {
   "cell_type": "code",
   "execution_count": 12,
   "metadata": {},
   "outputs": [],
   "source": [
    "#data is imbalanced. The size of the many datasets are very small to use to train the model. Data should be resampled."
   ]
  },
  {
   "cell_type": "markdown",
   "metadata": {},
   "source": [
    "once all the data frames are merged and name of the attack name is given, the multinomial classification can be done. \n",
    "Building the model that predictst the specific type of attack made on the network."
   ]
  },
  {
   "cell_type": "code",
   "execution_count": 13,
   "metadata": {},
   "outputs": [],
   "source": [
    "#imbalanece in the data is treated by oversampling.\n"
   ]
  },
  {
   "cell_type": "code",
   "execution_count": 14,
   "metadata": {},
   "outputs": [],
   "source": [
    "#Encoding the attack variables using the Label Encoder\n",
    "lbl=LabelEncoder()\n",
    "final_atk.attack=lbl.fit_transform(final_atk.attack)"
   ]
  },
  {
   "cell_type": "code",
   "execution_count": 15,
   "metadata": {},
   "outputs": [],
   "source": [
    "#oversmaplig the minority data using SMOTE\n",
    "#spliting the taget variable and independent variable\n",
    "x=final_atk.drop(columns='attack')\n",
    "y=final_atk.attack\n",
    "smot=SMOTE(random_state=12,n_jobs=-1)\n",
    "x_data,y_data=smot.fit_resample(x,y)"
   ]
  },
  {
   "cell_type": "code",
   "execution_count": 16,
   "metadata": {},
   "outputs": [
    {
     "data": {
      "text/plain": [
       "10    17301\n",
       "9     17301\n",
       "8     17301\n",
       "7     17301\n",
       "6     17301\n",
       "5     17301\n",
       "4     17301\n",
       "3     17301\n",
       "2     17301\n",
       "1     17301\n",
       "0     17301\n",
       "Name: attack, dtype: int64"
      ]
     },
     "execution_count": 16,
     "metadata": {},
     "output_type": "execute_result"
    }
   ],
   "source": [
    "y_data.value_counts()"
   ]
  },
  {
   "cell_type": "markdown",
   "metadata": {},
   "source": [
    "datas are now balanced"
   ]
  },
  {
   "cell_type": "markdown",
   "metadata": {},
   "source": [
    "# Multinomial classification"
   ]
  },
  {
   "cell_type": "code",
   "execution_count": 17,
   "metadata": {},
   "outputs": [],
   "source": [
    "#using the ML classfiers to classify the potential cyber threats"
   ]
  },
  {
   "cell_type": "code",
   "execution_count": 18,
   "metadata": {},
   "outputs": [],
   "source": [
    "#splitting the dataframes to training and testing data\n",
    "xtr,xte,ytr,yte=train_test_split(x_data,y_data,test_size=0.2,random_state=2)"
   ]
  },
  {
   "cell_type": "code",
   "execution_count": 19,
   "metadata": {},
   "outputs": [],
   "source": [
    "#reseting the index and removing the index columns that created after resting the index\n",
    "xtr=xtr.reset_index().drop(columns='index')\n",
    "ytr=ytr.reset_index().drop(columns='index')\n",
    "xte=xte.reset_index().drop(columns='index')\n",
    "yte=yte.reset_index().drop(columns='index')"
   ]
  },
  {
   "cell_type": "code",
   "execution_count": 20,
   "metadata": {},
   "outputs": [],
   "source": [
    "from sklearn.tree import DecisionTreeClassifier"
   ]
  },
  {
   "cell_type": "code",
   "execution_count": 21,
   "metadata": {},
   "outputs": [],
   "source": [
    "dt=DecisionTreeClassifier()"
   ]
  },
  {
   "cell_type": "code",
   "execution_count": 22,
   "metadata": {},
   "outputs": [
    {
     "data": {
      "text/plain": [
       "DecisionTreeClassifier()"
      ]
     },
     "execution_count": 22,
     "metadata": {},
     "output_type": "execute_result"
    }
   ],
   "source": [
    "dt.fit(xtr,ytr)"
   ]
  },
  {
   "cell_type": "code",
   "execution_count": 23,
   "metadata": {},
   "outputs": [
    {
     "data": {
      "text/plain": [
       "array([ 1, 10,  4, ...,  7,  0,  1])"
      ]
     },
     "execution_count": 23,
     "metadata": {},
     "output_type": "execute_result"
    }
   ],
   "source": [
    "dt.predict(xte)"
   ]
  },
  {
   "cell_type": "code",
   "execution_count": 24,
   "metadata": {},
   "outputs": [
    {
     "data": {
      "text/plain": [
       "0.9995270998082127"
      ]
     },
     "execution_count": 24,
     "metadata": {},
     "output_type": "execute_result"
    }
   ],
   "source": [
    "accuracy_score(yte,dt.predict(xte))"
   ]
  },
  {
   "cell_type": "code",
   "execution_count": 25,
   "metadata": {},
   "outputs": [
    {
     "data": {
      "text/plain": [
       "0.9999934317692186"
      ]
     },
     "execution_count": 25,
     "metadata": {},
     "output_type": "execute_result"
    }
   ],
   "source": [
    "accuracy_score(ytr,dt.predict(xtr))"
   ]
  },
  {
   "cell_type": "code",
   "execution_count": 26,
   "metadata": {},
   "outputs": [
    {
     "name": "stdout",
     "output_type": "stream",
     "text": [
      "              precision    recall  f1-score   support\n",
      "\n",
      "           0       1.00      1.00      1.00     13906\n",
      "           1       1.00      1.00      1.00     13795\n",
      "           2       1.00      1.00      1.00     13869\n",
      "           3       1.00      1.00      1.00     13813\n",
      "           4       1.00      1.00      1.00     13857\n",
      "           5       1.00      1.00      1.00     13762\n",
      "           6       1.00      1.00      1.00     13780\n",
      "           7       1.00      1.00      1.00     13927\n",
      "           8       1.00      1.00      1.00     13904\n",
      "           9       1.00      1.00      1.00     13815\n",
      "          10       1.00      1.00      1.00     13820\n",
      "\n",
      "    accuracy                           1.00    152248\n",
      "   macro avg       1.00      1.00      1.00    152248\n",
      "weighted avg       1.00      1.00      1.00    152248\n",
      "\n"
     ]
    }
   ],
   "source": [
    "print(classification_report(ytr,dt.predict(xtr)))"
   ]
  },
  {
   "cell_type": "raw",
   "metadata": {},
   "source": [
    "The model wihtout any hyperparameter tuning is giving the best accuracy"
   ]
  },
  {
   "cell_type": "markdown",
   "metadata": {},
   "source": [
    "# Random forest classifer"
   ]
  },
  {
   "cell_type": "code",
   "execution_count": 27,
   "metadata": {},
   "outputs": [],
   "source": [
    "from sklearn.ensemble import RandomForestClassifier"
   ]
  },
  {
   "cell_type": "code",
   "execution_count": 28,
   "metadata": {},
   "outputs": [],
   "source": [
    "rf=RandomForestClassifier()"
   ]
  },
  {
   "cell_type": "code",
   "execution_count": 29,
   "metadata": {},
   "outputs": [
    {
     "name": "stderr",
     "output_type": "stream",
     "text": [
      "C:\\Users\\nagar\\Anaconda3\\lib\\site-packages\\ipykernel_launcher.py:1: DataConversionWarning: A column-vector y was passed when a 1d array was expected. Please change the shape of y to (n_samples,), for example using ravel().\n",
      "  \"\"\"Entry point for launching an IPython kernel.\n"
     ]
    },
    {
     "data": {
      "text/plain": [
       "RandomForestClassifier()"
      ]
     },
     "execution_count": 29,
     "metadata": {},
     "output_type": "execute_result"
    }
   ],
   "source": [
    "rf.fit(xtr,ytr)"
   ]
  },
  {
   "cell_type": "code",
   "execution_count": 30,
   "metadata": {},
   "outputs": [],
   "source": [
    "rf_pred=rf.predict(xtr)"
   ]
  },
  {
   "cell_type": "code",
   "execution_count": 31,
   "metadata": {},
   "outputs": [
    {
     "data": {
      "text/plain": [
       "0.9999934317692186"
      ]
     },
     "execution_count": 31,
     "metadata": {},
     "output_type": "execute_result"
    }
   ],
   "source": [
    "accuracy_score(ytr,rf_pred)"
   ]
  },
  {
   "cell_type": "code",
   "execution_count": 32,
   "metadata": {},
   "outputs": [
    {
     "data": {
      "text/plain": [
       "0.9999474555342459"
      ]
     },
     "execution_count": 32,
     "metadata": {},
     "output_type": "execute_result"
    }
   ],
   "source": [
    "accuracy_score(yte,rf.predict(xte))"
   ]
  },
  {
   "cell_type": "code",
   "execution_count": 33,
   "metadata": {},
   "outputs": [
    {
     "name": "stdout",
     "output_type": "stream",
     "text": [
      "              precision    recall  f1-score   support\n",
      "\n",
      "           0       1.00      1.00      1.00     13906\n",
      "           1       1.00      1.00      1.00     13795\n",
      "           2       1.00      1.00      1.00     13869\n",
      "           3       1.00      1.00      1.00     13813\n",
      "           4       1.00      1.00      1.00     13857\n",
      "           5       1.00      1.00      1.00     13762\n",
      "           6       1.00      1.00      1.00     13780\n",
      "           7       1.00      1.00      1.00     13927\n",
      "           8       1.00      1.00      1.00     13904\n",
      "           9       1.00      1.00      1.00     13815\n",
      "          10       1.00      1.00      1.00     13820\n",
      "\n",
      "    accuracy                           1.00    152248\n",
      "   macro avg       1.00      1.00      1.00    152248\n",
      "weighted avg       1.00      1.00      1.00    152248\n",
      "\n"
     ]
    }
   ],
   "source": [
    "print(classification_report(ytr,rf_pred))"
   ]
  },
  {
   "cell_type": "raw",
   "metadata": {},
   "source": [
    "The model is giving the higher accuracy and correctly classifying the data, even without the hyperparameter tuning"
   ]
  },
  {
   "cell_type": "markdown",
   "metadata": {},
   "source": [
    "# Support vector Machine"
   ]
  },
  {
   "cell_type": "code",
   "execution_count": 34,
   "metadata": {},
   "outputs": [],
   "source": [
    "from sklearn.svm import SVC\n",
    "from sklearn.preprocessing import StandardScaler"
   ]
  },
  {
   "cell_type": "code",
   "execution_count": 35,
   "metadata": {},
   "outputs": [],
   "source": [
    "std=StandardScaler()\n",
    "xtr_scaled=std.fit_transform(xtr)\n",
    "xte_scaled=std.transform(xte)"
   ]
  },
  {
   "cell_type": "code",
   "execution_count": 36,
   "metadata": {},
   "outputs": [],
   "source": [
    "svc=SVC()"
   ]
  },
  {
   "cell_type": "code",
   "execution_count": 37,
   "metadata": {},
   "outputs": [
    {
     "name": "stderr",
     "output_type": "stream",
     "text": [
      "C:\\Users\\nagar\\Anaconda3\\lib\\site-packages\\sklearn\\utils\\validation.py:63: DataConversionWarning: A column-vector y was passed when a 1d array was expected. Please change the shape of y to (n_samples, ), for example using ravel().\n",
      "  return f(*args, **kwargs)\n"
     ]
    },
    {
     "data": {
      "text/plain": [
       "SVC()"
      ]
     },
     "execution_count": 37,
     "metadata": {},
     "output_type": "execute_result"
    }
   ],
   "source": [
    "svc.fit(xtr_scaled,ytr)"
   ]
  },
  {
   "cell_type": "code",
   "execution_count": 38,
   "metadata": {},
   "outputs": [],
   "source": [
    "svc_pred=svc.predict(xtr_scaled)"
   ]
  },
  {
   "cell_type": "code",
   "execution_count": 39,
   "metadata": {},
   "outputs": [
    {
     "data": {
      "text/plain": [
       "0.9973595712258946"
      ]
     },
     "execution_count": 39,
     "metadata": {},
     "output_type": "execute_result"
    }
   ],
   "source": [
    "accuracy_score(ytr,svc_pred)"
   ]
  },
  {
   "cell_type": "code",
   "execution_count": 40,
   "metadata": {},
   "outputs": [
    {
     "name": "stdout",
     "output_type": "stream",
     "text": [
      "              precision    recall  f1-score   support\n",
      "\n",
      "           0       1.00      1.00      1.00     13906\n",
      "           1       1.00      1.00      1.00     13795\n",
      "           2       1.00      1.00      1.00     13869\n",
      "           3       1.00      1.00      1.00     13813\n",
      "           4       0.99      1.00      0.99     13857\n",
      "           5       1.00      1.00      1.00     13762\n",
      "           6       1.00      0.99      0.99     13780\n",
      "           7       1.00      1.00      1.00     13927\n",
      "           8       1.00      1.00      1.00     13904\n",
      "           9       1.00      0.98      0.99     13815\n",
      "          10       1.00      1.00      1.00     13820\n",
      "\n",
      "    accuracy                           1.00    152248\n",
      "   macro avg       1.00      1.00      1.00    152248\n",
      "weighted avg       1.00      1.00      1.00    152248\n",
      "\n"
     ]
    }
   ],
   "source": [
    "print(classification_report(ytr,svc_pred))"
   ]
  },
  {
   "cell_type": "raw",
   "metadata": {},
   "source": [
    "The SVC algorithm is correctly classifying the types of attack without any hyperparameter tuning"
   ]
  },
  {
   "cell_type": "raw",
   "metadata": {},
   "source": [
    "For Multinomial classification, the models are classifying the type of the attack with high accuracy score. MOving formward to \n",
    "Binomial classification"
   ]
  },
  {
   "cell_type": "markdown",
   "metadata": {},
   "source": [
    "# Binomial classification"
   ]
  },
  {
   "cell_type": "code",
   "execution_count": 41,
   "metadata": {},
   "outputs": [],
   "source": [
    "#taking the samples out of the majority dataset \n",
    "n_data1=normal_data.sample(frac=0.03)\n",
    "nep_data1=neptune.sample(frac=0.03)\n",
    "\n",
    "#combine all the data frame\n",
    "final_atk1=pd.concat([n_data1,butterovfl,ftp,guess_pwd,nmap,nep_data1,portsweep,rootkit,satan,smurf,atk],ignore_index=True)"
   ]
  },
  {
   "cell_type": "code",
   "execution_count": 42,
   "metadata": {},
   "outputs": [],
   "source": [
    "final_atk1.attack=np.where(final_atk1.attack!='normal','attack','normal')"
   ]
  },
  {
   "cell_type": "code",
   "execution_count": 43,
   "metadata": {},
   "outputs": [],
   "source": [
    "#spliting the data to train test split"
   ]
  },
  {
   "cell_type": "code",
   "execution_count": 44,
   "metadata": {},
   "outputs": [],
   "source": [
    "tr_x,te_x,tr_y,te_y=train_test_split(final_atk1.drop(columns='attack'),final_atk1.attack,test_size=0.2,random_state=4)"
   ]
  },
  {
   "cell_type": "code",
   "execution_count": 45,
   "metadata": {},
   "outputs": [],
   "source": [
    "tr_x=tr_x.reset_index().drop(columns='index')\n",
    "tr_y=tr_y.reset_index().drop(columns='index')\n",
    "te_x=te_x.reset_index().drop(columns='index')\n",
    "te_y=te_y.reset_index().drop(columns='index')"
   ]
  },
  {
   "cell_type": "markdown",
   "metadata": {},
   "source": [
    "# Decision Tree"
   ]
  },
  {
   "cell_type": "code",
   "execution_count": 46,
   "metadata": {},
   "outputs": [],
   "source": [
    "from sklearn.tree import DecisionTreeClassifier"
   ]
  },
  {
   "cell_type": "code",
   "execution_count": 47,
   "metadata": {},
   "outputs": [],
   "source": [
    "dt_bi=DecisionTreeClassifier()"
   ]
  },
  {
   "cell_type": "code",
   "execution_count": 48,
   "metadata": {},
   "outputs": [
    {
     "data": {
      "text/plain": [
       "DecisionTreeClassifier()"
      ]
     },
     "execution_count": 48,
     "metadata": {},
     "output_type": "execute_result"
    }
   ],
   "source": [
    "dt_bi.fit(tr_x,tr_y)"
   ]
  },
  {
   "cell_type": "code",
   "execution_count": 49,
   "metadata": {},
   "outputs": [
    {
     "data": {
      "text/plain": [
       "1.0"
      ]
     },
     "execution_count": 49,
     "metadata": {},
     "output_type": "execute_result"
    }
   ],
   "source": [
    "accuracy_score(tr_y,dt_bi.predict(tr_x))"
   ]
  },
  {
   "cell_type": "code",
   "execution_count": 50,
   "metadata": {},
   "outputs": [
    {
     "data": {
      "text/plain": [
       "0.998277461242878"
      ]
     },
     "execution_count": 50,
     "metadata": {},
     "output_type": "execute_result"
    }
   ],
   "source": [
    "accuracy_score(te_y,dt_bi.predict(te_x))"
   ]
  },
  {
   "cell_type": "code",
   "execution_count": 75,
   "metadata": {},
   "outputs": [
    {
     "name": "stdout",
     "output_type": "stream",
     "text": [
      "              precision    recall  f1-score   support\n",
      "\n",
      "      attack       1.00      1.00      1.00     16392\n",
      "      normal       1.00      1.00      1.00     13792\n",
      "\n",
      "    accuracy                           1.00     30184\n",
      "   macro avg       1.00      1.00      1.00     30184\n",
      "weighted avg       1.00      1.00      1.00     30184\n",
      "\n"
     ]
    }
   ],
   "source": [
    "print(classification_report(tr_y,dt_bi.predict(tr_x)))"
   ]
  },
  {
   "cell_type": "markdown",
   "metadata": {},
   "source": [
    "#Here, the model is predicting the threats properly with the high accuracy score on both training and testing datas"
   ]
  },
  {
   "cell_type": "markdown",
   "metadata": {},
   "source": [
    "# Random Forest"
   ]
  },
  {
   "cell_type": "code",
   "execution_count": 51,
   "metadata": {},
   "outputs": [],
   "source": [
    "from sklearn.ensemble import RandomForestClassifier"
   ]
  },
  {
   "cell_type": "code",
   "execution_count": 52,
   "metadata": {},
   "outputs": [],
   "source": [
    "rf_bi=RandomForestClassifier()"
   ]
  },
  {
   "cell_type": "code",
   "execution_count": 53,
   "metadata": {},
   "outputs": [
    {
     "name": "stderr",
     "output_type": "stream",
     "text": [
      "C:\\Users\\nagar\\Anaconda3\\lib\\site-packages\\ipykernel_launcher.py:1: DataConversionWarning: A column-vector y was passed when a 1d array was expected. Please change the shape of y to (n_samples,), for example using ravel().\n",
      "  \"\"\"Entry point for launching an IPython kernel.\n"
     ]
    },
    {
     "data": {
      "text/plain": [
       "RandomForestClassifier()"
      ]
     },
     "execution_count": 53,
     "metadata": {},
     "output_type": "execute_result"
    }
   ],
   "source": [
    "rf_bi.fit(tr_x,tr_y)"
   ]
  },
  {
   "cell_type": "code",
   "execution_count": 54,
   "metadata": {},
   "outputs": [
    {
     "data": {
      "text/plain": [
       "1.0"
      ]
     },
     "execution_count": 54,
     "metadata": {},
     "output_type": "execute_result"
    }
   ],
   "source": [
    "accuracy_score(tr_y,rf_bi.predict(tr_x))"
   ]
  },
  {
   "cell_type": "code",
   "execution_count": 55,
   "metadata": {},
   "outputs": [
    {
     "data": {
      "text/plain": [
       "0.9989399761494634"
      ]
     },
     "execution_count": 55,
     "metadata": {},
     "output_type": "execute_result"
    }
   ],
   "source": [
    "accuracy_score(te_y,rf_bi.predict(te_x))"
   ]
  },
  {
   "cell_type": "code",
   "execution_count": 73,
   "metadata": {},
   "outputs": [
    {
     "name": "stdout",
     "output_type": "stream",
     "text": [
      "              precision    recall  f1-score   support\n",
      "\n",
      "      attack       1.00      1.00      1.00     16392\n",
      "      normal       1.00      1.00      1.00     13792\n",
      "\n",
      "    accuracy                           1.00     30184\n",
      "   macro avg       1.00      1.00      1.00     30184\n",
      "weighted avg       1.00      1.00      1.00     30184\n",
      "\n"
     ]
    }
   ],
   "source": [
    "print(classification_report(tr_y,rf_bi.predict(tr_x)))"
   ]
  },
  {
   "cell_type": "raw",
   "metadata": {},
   "source": [
    "# The Random Forest is giving the best accuracy on both training and testing data"
   ]
  },
  {
   "cell_type": "markdown",
   "metadata": {},
   "source": [
    "# Bagging"
   ]
  },
  {
   "cell_type": "code",
   "execution_count": 57,
   "metadata": {},
   "outputs": [],
   "source": [
    "from sklearn.ensemble import BaggingClassifier"
   ]
  },
  {
   "cell_type": "code",
   "execution_count": 58,
   "metadata": {},
   "outputs": [],
   "source": [
    "bag_c=BaggingClassifier()"
   ]
  },
  {
   "cell_type": "code",
   "execution_count": 59,
   "metadata": {},
   "outputs": [
    {
     "name": "stderr",
     "output_type": "stream",
     "text": [
      "C:\\Users\\nagar\\Anaconda3\\lib\\site-packages\\sklearn\\utils\\validation.py:63: DataConversionWarning: A column-vector y was passed when a 1d array was expected. Please change the shape of y to (n_samples, ), for example using ravel().\n",
      "  return f(*args, **kwargs)\n"
     ]
    },
    {
     "data": {
      "text/plain": [
       "BaggingClassifier()"
      ]
     },
     "execution_count": 59,
     "metadata": {},
     "output_type": "execute_result"
    }
   ],
   "source": [
    "bag_c.fit(tr_x,tr_y)"
   ]
  },
  {
   "cell_type": "code",
   "execution_count": 60,
   "metadata": {},
   "outputs": [
    {
     "data": {
      "text/plain": [
       "0.9998674794593162"
      ]
     },
     "execution_count": 60,
     "metadata": {},
     "output_type": "execute_result"
    }
   ],
   "source": [
    "accuracy_score(tr_y,bag_c.predict(tr_x))"
   ]
  },
  {
   "cell_type": "code",
   "execution_count": 61,
   "metadata": {},
   "outputs": [
    {
     "data": {
      "text/plain": [
       "0.9986749701868292"
      ]
     },
     "execution_count": 61,
     "metadata": {},
     "output_type": "execute_result"
    }
   ],
   "source": [
    "accuracy_score(te_y,bag_c.predict(te_x))"
   ]
  },
  {
   "cell_type": "code",
   "execution_count": 72,
   "metadata": {},
   "outputs": [
    {
     "name": "stdout",
     "output_type": "stream",
     "text": [
      "              precision    recall  f1-score   support\n",
      "\n",
      "      attack       1.00      1.00      1.00     16392\n",
      "      normal       1.00      1.00      1.00     13792\n",
      "\n",
      "    accuracy                           1.00     30184\n",
      "   macro avg       1.00      1.00      1.00     30184\n",
      "weighted avg       1.00      1.00      1.00     30184\n",
      "\n"
     ]
    }
   ],
   "source": [
    "print(classification_report(tr_y,bag_c.predict(tr_x)))"
   ]
  },
  {
   "cell_type": "markdown",
   "metadata": {},
   "source": [
    "The Bagging classification is giving the best accuracy without the hyperparameter tuning."
   ]
  },
  {
   "cell_type": "markdown",
   "metadata": {},
   "source": [
    "# Support vector machine"
   ]
  },
  {
   "cell_type": "code",
   "execution_count": 62,
   "metadata": {},
   "outputs": [],
   "source": [
    "from sklearn.svm import SVC"
   ]
  },
  {
   "cell_type": "code",
   "execution_count": 63,
   "metadata": {},
   "outputs": [],
   "source": [
    "svc_bi=SVC()\n",
    "std_bi=StandardScaler()\n",
    "tr_x_scaled=std_bi.fit_transform(tr_x)\n",
    "te_x_scaled=std_bi.transform(te_x)"
   ]
  },
  {
   "cell_type": "code",
   "execution_count": 64,
   "metadata": {},
   "outputs": [
    {
     "name": "stderr",
     "output_type": "stream",
     "text": [
      "C:\\Users\\nagar\\Anaconda3\\lib\\site-packages\\sklearn\\utils\\validation.py:63: DataConversionWarning: A column-vector y was passed when a 1d array was expected. Please change the shape of y to (n_samples, ), for example using ravel().\n",
      "  return f(*args, **kwargs)\n"
     ]
    },
    {
     "data": {
      "text/plain": [
       "SVC()"
      ]
     },
     "execution_count": 64,
     "metadata": {},
     "output_type": "execute_result"
    }
   ],
   "source": [
    "svc_bi.fit(tr_x_scaled,tr_y)"
   ]
  },
  {
   "cell_type": "code",
   "execution_count": 65,
   "metadata": {},
   "outputs": [],
   "source": [
    "svc_bi_tr_pred=svc_bi.predict(tr_x_scaled)"
   ]
  },
  {
   "cell_type": "code",
   "execution_count": 66,
   "metadata": {},
   "outputs": [],
   "source": [
    "svc_bi_te_pred=svc_bi.predict(te_x_scaled)"
   ]
  },
  {
   "cell_type": "code",
   "execution_count": 67,
   "metadata": {},
   "outputs": [
    {
     "data": {
      "text/plain": [
       "0.995924993373973"
      ]
     },
     "execution_count": 67,
     "metadata": {},
     "output_type": "execute_result"
    }
   ],
   "source": [
    "accuracy_score(tr_y,svc_bi_tr_pred)"
   ]
  },
  {
   "cell_type": "code",
   "execution_count": 68,
   "metadata": {},
   "outputs": [
    {
     "data": {
      "text/plain": [
       "0.9948323837286339"
      ]
     },
     "execution_count": 68,
     "metadata": {},
     "output_type": "execute_result"
    }
   ],
   "source": [
    "accuracy_score(te_y,svc_bi_te_pred)"
   ]
  },
  {
   "cell_type": "code",
   "execution_count": 71,
   "metadata": {},
   "outputs": [
    {
     "name": "stdout",
     "output_type": "stream",
     "text": [
      "              precision    recall  f1-score   support\n",
      "\n",
      "      attack       0.99      1.00      1.00     16392\n",
      "      normal       1.00      0.99      1.00     13792\n",
      "\n",
      "    accuracy                           1.00     30184\n",
      "   macro avg       1.00      1.00      1.00     30184\n",
      "weighted avg       1.00      1.00      1.00     30184\n",
      "\n"
     ]
    }
   ],
   "source": [
    "print(classification_report(tr_y,svc_bi_tr_pred))"
   ]
  },
  {
   "cell_type": "raw",
   "metadata": {},
   "source": [
    "# The SVM classifier is showing the less accuracy(with small diference than the random forest and decision tree)"
   ]
  },
  {
   "cell_type": "markdown",
   "metadata": {},
   "source": [
    "The ensemble models are showing the beter results than Support Vector classifiers\n"
   ]
  },
  {
   "cell_type": "code",
   "execution_count": null,
   "metadata": {},
   "outputs": [],
   "source": []
  }
 ],
 "metadata": {
  "kernelspec": {
   "display_name": "Python (base)",
   "language": "python",
   "name": "base"
  },
  "language_info": {
   "codemirror_mode": {
    "name": "ipython",
    "version": 3
   },
   "file_extension": ".py",
   "mimetype": "text/x-python",
   "name": "python",
   "nbconvert_exporter": "python",
   "pygments_lexer": "ipython3",
   "version": "3.6.4"
  }
 },
 "nbformat": 4,
 "nbformat_minor": 2
}
